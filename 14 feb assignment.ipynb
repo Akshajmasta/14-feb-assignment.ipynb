{
 "cells": [
  {
   "attachments": {},
   "cell_type": "markdown",
   "metadata": {},
   "source": [
    "ANSWER 1"
   ]
  },
  {
   "attachments": {},
   "cell_type": "markdown",
   "metadata": {},
   "source": [
    "Multithreading in Python is a technique where a program is split into two or more threads that can run concurrently, allowing multiple tasks to be performed simultaneously. It is used to improve the performance of the program by executing multiple tasks simultaneously. The threading module is used to handle threads in Python."
   ]
  },
  {
   "attachments": {},
   "cell_type": "markdown",
   "metadata": {},
   "source": [
    "ANSWER 2"
   ]
  },
  {
   "attachments": {},
   "cell_type": "markdown",
   "metadata": {},
   "source": [
    "The threading module is used in Python for handling threads because it provides an easy way to create and manage threads. It also provides synchronization mechanisms like locks, events, and semaphores that can be used to avoid race conditions and deadlocks.\n",
    "\n",
    "activeCount(): This function returns the number of active threads in the current thread's thread control block.\n",
    "currentThread(): This function returns a reference to the current thread object.\n",
    "enumerate(): This function returns a list of all Thread objects that are currently active."
   ]
  },
  {
   "attachments": {},
   "cell_type": "markdown",
   "metadata": {},
   "source": [
    "ANSWER 3"
   ]
  },
  {
   "attachments": {},
   "cell_type": "markdown",
   "metadata": {},
   "source": [
    "The following are the explanations of the functions:\n",
    "run(): This method is used to define the code that should be executed by the thread when it is started.\n",
    "start(): This method is used to start the execution of the thread. It calls the run method.\n",
    "join(): This method is used to wait for the thread to complete its execution before proceeding with the rest of the code.\n",
    "isAlive(): This method is used to check whether the thread is still running or has completed its execution."
   ]
  },
  {
   "attachments": {},
   "cell_type": "markdown",
   "metadata": {},
   "source": [
    "ANSWER 4"
   ]
  },
  {
   "attachments": {},
   "cell_type": "markdown",
   "metadata": {},
   "source": [
    "Here is an example Python program that creates two threads. Thread one prints the list of squares, and thread two prints the list of cubes."
   ]
  },
  {
   "cell_type": "code",
   "execution_count": 1,
   "metadata": {},
   "outputs": [
    {
     "name": "stdout",
     "output_type": "stream",
     "text": [
      "1\n",
      "4\n",
      "9\n",
      "16\n",
      "25\n",
      "1\n",
      "8\n",
      "27\n",
      "64\n",
      "125\n",
      "Done!\n"
     ]
    }
   ],
   "source": [
    "import threading\n",
    "\n",
    "def print_squares():\n",
    "    for i in range(1, 6):\n",
    "        print(i*i)\n",
    "\n",
    "def print_cubes():\n",
    "    for i in range(1, 6):\n",
    "        print(i*i*i)\n",
    "\n",
    "t1 = threading.Thread(target=print_squares)\n",
    "t2 = threading.Thread(target=print_cubes)\n",
    "\n",
    "t1.start()\n",
    "t2.start()\n",
    "\n",
    "t1.join()\n",
    "t2.join()\n",
    "\n",
    "print(\"Done!\")\n"
   ]
  },
  {
   "attachments": {},
   "cell_type": "markdown",
   "metadata": {},
   "source": [
    "ANSWER 5"
   ]
  },
  {
   "attachments": {},
   "cell_type": "markdown",
   "metadata": {},
   "source": [
    "Advantages of multithreading:\n",
    "Improved performance and throughput.\n",
    "Increased responsiveness and user experience.\n",
    "Simplified code and better code organization.\n",
    "Efficient use of system resources.\n",
    "\n",
    "\n",
    "Disadvantages of multithreading:\n",
    "\n",
    "Increased complexity and difficulty in debugging.\n",
    "Increased memory usage and potential for memory leaks.\n",
    "Risk of race conditions and deadlocks."
   ]
  },
  {
   "attachments": {},
   "cell_type": "markdown",
   "metadata": {},
   "source": [
    "ANSWER 6"
   ]
  },
  {
   "attachments": {},
   "cell_type": "markdown",
   "metadata": {},
   "source": [
    "Deadlocks and race conditions are common problems that can occur in multithreaded programs.\n",
    "Deadlock: A deadlock occurs when two or more threads are waiting for each other to release a resource or lock, resulting in a situation where neither thread can proceed. This can cause the program to hang or become unresponsive.\n",
    "\n",
    "Race condition: A race condition occurs when two or more threads access a shared resource simultaneously, resulting in unpredictable behavior. This can cause data corruption, crashes, and other errors.\n",
    "\n",
    "To avoid these problems, multithreaded programs should use synchronization mechanisms like locks, events, and semaphores to ensure that only one thread can access a shared resource at a time."
   ]
  }
 ],
 "metadata": {
  "kernelspec": {
   "display_name": "Python 3",
   "language": "python",
   "name": "python3"
  },
  "language_info": {
   "codemirror_mode": {
    "name": "ipython",
    "version": 3
   },
   "file_extension": ".py",
   "mimetype": "text/x-python",
   "name": "python",
   "nbconvert_exporter": "python",
   "pygments_lexer": "ipython3",
   "version": "3.11.2"
  },
  "orig_nbformat": 4
 },
 "nbformat": 4,
 "nbformat_minor": 2
}
